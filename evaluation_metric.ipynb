{
  "nbformat": 4,
  "nbformat_minor": 0,
  "metadata": {
    "colab": {
      "provenance": []
    },
    "kernelspec": {
      "name": "python3",
      "display_name": "Python 3"
    },
    "language_info": {
      "name": "python"
    }
  },
  "cells": [
    {
      "cell_type": "markdown",
      "source": [
        "cosine_similarity"
      ],
      "metadata": {
        "id": "q-lDgHvG_UcH"
      }
    },
    {
      "cell_type": "code",
      "source": [
        "from sklearn.feature_extraction.text import CountVectorizer\n",
        "from sklearn.metrics.pairwise import cosine_similarity\n",
        "\n",
        "# Define two sentences for comparison\n",
        "sentence1 = \"The quick brown fox jumps over the lazy dog.\"\n",
        "sentence2 = \"lazy dog was jumped by the quick brown fox.\"\n",
        "\n",
        "# Create CountVectorizer to convert sentences to vectors\n",
        "vectorizer = CountVectorizer()\n",
        "sentences = [sentence1, sentence2]\n",
        "sentence_vectors = vectorizer.fit_transform(sentences)\n",
        "\n",
        "# Calculate cosine similarity between the sentence vectors\n",
        "cosine_sim = cosine_similarity(sentence_vectors[0], sentence_vectors[1])\n",
        "\n",
        "# Print cosine similarity score\n",
        "print(sentence1)\n",
        "print(sentence2)\n",
        "print(\"Cosine Similarity Score: \", cosine_sim[0][0])\n"
      ],
      "metadata": {
        "colab": {
          "base_uri": "https://localhost:8080/"
        },
        "id": "T3pCj1qb96Wj",
        "outputId": "95527a34-a317-4416-c359-d6da647d1040"
      },
      "execution_count": 4,
      "outputs": [
        {
          "output_type": "stream",
          "name": "stdout",
          "text": [
            "The quick brown fox jumps over the lazy dog.\n",
            "lazy dog was jumped by the quick brown fox.\n",
            "Cosine Similarity Score:  0.7035264706814485\n"
          ]
        }
      ]
    },
    {
      "cell_type": "markdown",
      "source": [
        "perplexity"
      ],
      "metadata": {
        "id": "K40YEFSq_sgH"
      }
    },
    {
      "cell_type": "code",
      "source": [
        "!pip install lmppl\n",
        "import lmppl\n",
        "\n",
        "scorer = lmppl.LM('gpt2')\n",
        "text = [\n",
        "    'sentiment classification: In this regard, it is the complainants case that Laxmi had repeatedly told her about the ill-treatment',\n",
        "    'sentiment classification: in this this regard, it is the the complainant s case case that that laxmimi had repeatedly repeatedly told told her about the the ill - treatment.'\n",
        "]\n",
        "ppl = scorer.get_perplexity(text)\n",
        "print(list(zip(text, ppl)))\n",
        "\n",
        "print(f\"prediction: {text[ppl.index(min(ppl))]}\")\n"
      ],
      "metadata": {
        "id": "zaOrsgwZ_mKd"
      },
      "execution_count": null,
      "outputs": []
    },
    {
      "cell_type": "markdown",
      "source": [
        "Rouge Score"
      ],
      "metadata": {
        "id": "RJNWZiMiAQtM"
      }
    },
    {
      "cell_type": "code",
      "source": [
        "!pip install rouge\n",
        "from rouge import Rouge\n",
        "\n",
        "# Define two sentences for comparison\n",
        "reference = \"The quick brown fox jumps over the lazy dog.\"\n",
        "generated = \"The quick brown fox jumps over the lazy cat.\"\n",
        "\n",
        "# Create Rouge object\n",
        "rouge = Rouge()\n",
        "\n",
        "# Calculate ROUGE scores\n",
        "scores = rouge.get_scores(generated, reference)\n",
        "\n",
        "# Extract ROUGE-1, ROUGE-2, and ROUGE-L scores\n",
        "rouge_1 = scores[0]['rouge-1']['f']\n",
        "rouge_2 = scores[0]['rouge-2']['f']\n",
        "rouge_l = scores[0]['rouge-l']['f']\n",
        "\n",
        "# Print ROUGE scores\n",
        "print(\"ROUGE-1 Score: \", rouge_1)\n",
        "print(\"ROUGE-2 Score: \", rouge_2)\n",
        "print(\"ROUGE-L Score: \", rouge_l)\n"
      ],
      "metadata": {
        "id": "cfSVIyqZ_vKC"
      },
      "execution_count": null,
      "outputs": []
    }
  ]
}