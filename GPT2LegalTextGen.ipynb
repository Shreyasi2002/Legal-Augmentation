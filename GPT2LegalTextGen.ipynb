{
 "cells": [
  {
   "cell_type": "markdown",
   "metadata": {},
   "source": [
    "#### Training"
   ]
  },
  {
   "cell_type": "code",
   "execution_count": null,
   "metadata": {
    "id": "KBkpRgBCBS2_"
   },
   "outputs": [],
   "source": [
    "!pip install -q gpt-2-simple\n",
    "import gpt_2_simple as gpt2\n",
    "from datetime import datetime\n",
    "from google.colab import files"
   ]
  },
  {
   "cell_type": "code",
   "execution_count": null,
   "metadata": {
    "id": "P8wSlgXoDPCR"
   },
   "outputs": [],
   "source": [
    "gpt2.download_gpt2(model_name=\"124M\")"
   ]
  },
  {
   "cell_type": "code",
   "execution_count": null,
   "metadata": {
    "id": "puq4iC6vUAHc"
   },
   "outputs": [],
   "source": [
    "gpt2.mount_gdrive()"
   ]
  },
  {
   "cell_type": "code",
   "execution_count": null,
   "metadata": {
    "id": "6OFnPCLADfll"
   },
   "outputs": [],
   "source": [
    "file_name = \"JSONtoTXT.txt\""
   ]
  },
  {
   "cell_type": "code",
   "execution_count": null,
   "metadata": {
    "id": "7jNG16THW2A_"
   },
   "outputs": [],
   "source": [
    "# import os\n",
    "# os.chdir(\"/content/drive/MyDrive/IITK\")\n",
    "# !ls"
   ]
  },
  {
   "cell_type": "code",
   "execution_count": null,
   "metadata": {
    "id": "-Z6okFD8VKtS"
   },
   "outputs": [],
   "source": [
    "gpt2.copy_file_from_gdrive(file_name)\n",
    "try:\n",
    "  gpt2.copy_checkpoint_from_gdrive(run_name='LegalAnnotTextGen')\n",
    "  print(\"Previous Checkpoint loaded\")\n",
    "except:\n",
    "  print(\"New model to be trained\")"
   ]
  },
  {
   "cell_type": "code",
   "execution_count": null,
   "metadata": {
    "id": "aeXshJM-Cuaf"
   },
   "outputs": [],
   "source": [
    "# tf.reset_default_graph()\n",
    "sess = gpt2.start_tf_sess()\n",
    "\n",
    "gpt2.finetune(sess,\n",
    "              dataset=file_name,\n",
    "              model_name='124M',\n",
    "              steps=2000,\n",
    "              restore_from='latest',\n",
    "              run_name='LegalAnnotTextGen',\n",
    "              print_every=200,\n",
    "              sample_every=1000,\n",
    "              save_every=500,\n",
    "              overwrite = True,\n",
    "              learning_rate=0.00001\n",
    "              )\n"
   ]
  },
  {
   "cell_type": "code",
   "execution_count": null,
   "metadata": {
    "id": "VHdTL8NDbAh3"
   },
   "outputs": [],
   "source": [
    "gpt2.copy_checkpoint_to_gdrive(run_name='LegalAnnotTextGen')"
   ]
  },
  {
   "cell_type": "markdown",
   "metadata": {},
   "source": [
    "#### Generation of Text"
   ]
  },
  {
   "cell_type": "code",
   "execution_count": 1,
   "metadata": {
    "ExecuteTime": {
     "end_time": "2023-04-19T07:50:12.814189Z",
     "start_time": "2023-04-19T07:50:08.588695Z"
    }
   },
   "outputs": [
    {
     "name": "stderr",
     "output_type": "stream",
     "text": [
      "2023-04-19 13:20:11.187269: I tensorflow/stream_executor/platform/default/dso_loader.cc:49] Successfully opened dynamic library libcudart.so.10.1\n"
     ]
    }
   ],
   "source": [
    "!pip install -q gpt-2-simple\n",
    "import gpt_2_simple as gpt2\n",
    "from datetime import datetime"
   ]
  },
  {
   "cell_type": "code",
   "execution_count": 2,
   "metadata": {
    "ExecuteTime": {
     "end_time": "2023-04-19T07:50:12.818023Z",
     "start_time": "2023-04-19T07:50:12.815857Z"
    },
    "id": "DCcx5u7sbPTD"
   },
   "outputs": [],
   "source": [
    "# gpt2.copy_checkpoint_from_gdrive(run_name='LegalAnnotTextGen')"
   ]
  },
  {
   "cell_type": "code",
   "execution_count": 3,
   "metadata": {
    "ExecuteTime": {
     "end_time": "2023-04-19T07:50:17.636647Z",
     "start_time": "2023-04-19T07:50:12.819452Z"
    },
    "id": "-fxL77nvAMAX"
   },
   "outputs": [
    {
     "name": "stderr",
     "output_type": "stream",
     "text": [
      "2023-04-19 13:20:12.821302: I tensorflow/core/platform/cpu_feature_guard.cc:142] This TensorFlow binary is optimized with oneAPI Deep Neural Network Library (oneDNN) to use the following CPU instructions in performance-critical operations:  SSE4.1 SSE4.2 AVX AVX2 FMA\n",
      "To enable them in other operations, rebuild TensorFlow with the appropriate compiler flags.\n",
      "2023-04-19 13:20:12.822286: I tensorflow/compiler/jit/xla_gpu_device.cc:99] Not creating XLA devices, tf_xla_enable_xla_devices not set\n",
      "2023-04-19 13:20:12.822966: I tensorflow/stream_executor/platform/default/dso_loader.cc:49] Successfully opened dynamic library libcuda.so.1\n",
      "2023-04-19 13:20:14.437710: I tensorflow/stream_executor/cuda/cuda_gpu_executor.cc:941] successful NUMA node read from SysFS had negative value (-1), but there must be at least one NUMA node, so returning NUMA node zero\n",
      "2023-04-19 13:20:14.438559: I tensorflow/core/common_runtime/gpu/gpu_device.cc:1720] Found device 0 with properties: \n",
      "pciBusID: 0000:01:00.0 name: NVIDIA GeForce GTX 1650 Ti computeCapability: 7.5\n",
      "coreClock: 1.485GHz coreCount: 16 deviceMemorySize: 3.81GiB deviceMemoryBandwidth: 178.84GiB/s\n",
      "2023-04-19 13:20:14.438661: I tensorflow/stream_executor/platform/default/dso_loader.cc:49] Successfully opened dynamic library libcudart.so.10.1\n",
      "2023-04-19 13:20:14.463736: I tensorflow/stream_executor/platform/default/dso_loader.cc:49] Successfully opened dynamic library libcublas.so.10\n",
      "2023-04-19 13:20:14.463795: I tensorflow/stream_executor/platform/default/dso_loader.cc:49] Successfully opened dynamic library libcublasLt.so.10\n",
      "2023-04-19 13:20:14.473612: I tensorflow/stream_executor/platform/default/dso_loader.cc:49] Successfully opened dynamic library libcufft.so.10\n",
      "2023-04-19 13:20:14.476173: I tensorflow/stream_executor/platform/default/dso_loader.cc:49] Successfully opened dynamic library libcurand.so.10\n",
      "2023-04-19 13:20:14.495781: I tensorflow/stream_executor/platform/default/dso_loader.cc:49] Successfully opened dynamic library libcusolver.so.10\n",
      "2023-04-19 13:20:14.498661: I tensorflow/stream_executor/platform/default/dso_loader.cc:49] Successfully opened dynamic library libcusparse.so.10\n",
      "2023-04-19 13:20:14.530372: I tensorflow/stream_executor/platform/default/dso_loader.cc:49] Successfully opened dynamic library libcudnn.so.7\n",
      "2023-04-19 13:20:14.530517: I tensorflow/stream_executor/cuda/cuda_gpu_executor.cc:941] successful NUMA node read from SysFS had negative value (-1), but there must be at least one NUMA node, so returning NUMA node zero\n",
      "2023-04-19 13:20:14.530698: I tensorflow/stream_executor/cuda/cuda_gpu_executor.cc:941] successful NUMA node read from SysFS had negative value (-1), but there must be at least one NUMA node, so returning NUMA node zero\n",
      "2023-04-19 13:20:14.530790: I tensorflow/core/common_runtime/gpu/gpu_device.cc:1862] Adding visible gpu devices: 0\n",
      "2023-04-19 13:20:14.531131: I tensorflow/stream_executor/platform/default/dso_loader.cc:49] Successfully opened dynamic library libcudart.so.10.1\n",
      "2023-04-19 13:20:15.216389: I tensorflow/core/common_runtime/gpu/gpu_device.cc:1261] Device interconnect StreamExecutor with strength 1 edge matrix:\n",
      "2023-04-19 13:20:15.216412: I tensorflow/core/common_runtime/gpu/gpu_device.cc:1267]      0 \n",
      "2023-04-19 13:20:15.216418: I tensorflow/core/common_runtime/gpu/gpu_device.cc:1280] 0:   N \n",
      "2023-04-19 13:20:15.216809: I tensorflow/stream_executor/cuda/cuda_gpu_executor.cc:941] successful NUMA node read from SysFS had negative value (-1), but there must be at least one NUMA node, so returning NUMA node zero\n",
      "2023-04-19 13:20:15.216980: I tensorflow/stream_executor/cuda/cuda_gpu_executor.cc:941] successful NUMA node read from SysFS had negative value (-1), but there must be at least one NUMA node, so returning NUMA node zero\n",
      "2023-04-19 13:20:15.217115: I tensorflow/stream_executor/cuda/cuda_gpu_executor.cc:941] successful NUMA node read from SysFS had negative value (-1), but there must be at least one NUMA node, so returning NUMA node zero\n",
      "2023-04-19 13:20:15.217225: I tensorflow/core/common_runtime/gpu/gpu_device.cc:1406] Created TensorFlow device (/job:localhost/replica:0/task:0/device:GPU:0 with 3395 MB memory) -> physical GPU (device: 0, name: NVIDIA GeForce GTX 1650 Ti, pci bus id: 0000:01:00.0, compute capability: 7.5)\n"
     ]
    },
    {
     "name": "stdout",
     "output_type": "stream",
     "text": [
      "Loading checkpoint checkpoint/LegalAnnotTextGen/model-2000\n",
      "INFO:tensorflow:Restoring parameters from checkpoint/LegalAnnotTextGen/model-2000\n"
     ]
    },
    {
     "name": "stderr",
     "output_type": "stream",
     "text": [
      "2023-04-19 13:20:16.692435: I tensorflow/compiler/mlir/mlir_graph_optimization_pass.cc:196] None of the MLIR optimization passes are enabled (registered 0 passes)\n",
      "2023-04-19 13:20:16.726613: I tensorflow/core/platform/profile_utils/cpu_utils.cc:112] CPU Frequency: 2199995000 Hz\n"
     ]
    }
   ],
   "source": [
    "sess = gpt2.start_tf_sess()\n",
    "gpt2.load_gpt2(sess, run_name='LegalAnnotTextGen')"
   ]
  },
  {
   "cell_type": "code",
   "execution_count": 9,
   "metadata": {
    "ExecuteTime": {
     "end_time": "2023-04-19T08:23:10.905869Z",
     "start_time": "2023-04-19T08:22:10.152928Z"
    },
    "id": "4RNY6RBI9LmL"
   },
   "outputs": [],
   "source": [
    "# sampleSize = 10\n",
    "textPref = \"<DOC><PREAMBLE>\"\n",
    "newContext = \"<DOC><PREAMBLE>\"\n",
    "step = 0\n",
    "while \"</DOC>\" not in newContext:\n",
    "    prevContext = newContext\n",
    "    newContext = gpt2.generate(sess,\n",
    "                        run_name = 'LegalAnnotTextGen',\n",
    "                        truncate='<END/>',\n",
    "                        temperature=0.8,\n",
    "                        prefix = prevContext,\n",
    "                        include_prefix=False,\n",
    "                        top_k = 50,\n",
    "                        return_as_list=True)[0]\n",
    "    \n",
    "    if prevContext in newContext:\n",
    "        step+=1\n",
    "        if step>9:\n",
    "            print(step)\n",
    "            step = step%10\n",
    "        newContext = newContext.replace(prevContext,'')\n",
    "    textPref+=newContext\n",
    "    newContext = newContext[int(0.5*len(newContext)):]"
   ]
  },
  {
   "cell_type": "code",
   "execution_count": 10,
   "metadata": {
    "ExecuteTime": {
     "end_time": "2023-04-19T08:23:10.910996Z",
     "start_time": "2023-04-19T08:23:10.908091Z"
    },
    "id": "Bxpzu1WmHHR1"
   },
   "outputs": [
    {
     "name": "stdout",
     "output_type": "stream",
     "text": [
      "<DOC><PREAMBLE>THE COURT: VENKATARAMIAH, J. DELHI CENTRAL </PREAMBLE><PREAMBLE>DISTRICT :</PREAMBLE><PREAMBLE>WRIT PETITION NO.3055 OF 2010</PREAMBLE><PREAMBLE> NARULAIAH, J.</PREAMBLE><PREAMBLE>WRIT PETITION NO.3056 OF 2010</PREAMBLE><PREAMBLE> VENKATARAMIAH, J. (DERIVED AS IN APPELLANT's case, CIT.</PREAMBLE><PREAMBLE>NOT JUDGMENT BEFORE R-C</PREAMBLE><PREAMBLE> 1. In R-C, the question is as to whether the provisions of the Assam Amendment Act, 1967, would attract cognizance from the District Court.</PREAMBLE><PREAMBLE>[617 D] 2. As held in the case of M/s. Fancy Chemicals Ltd. [1991] 2 SCC 699, the provisions of the Assam Amendment Act, 1967, would attract cognizance from the District Court.</PREAMBLE><PREAMBLE>3. As held in the case of Bentleys Ltd. [1988] 2 SCC 699, the provisions of the Assam Amendment Act, 1967, would attract cognizance from the District Court.</PREAMBLE><PREAMBLE>4. As held in the case of M/s. Bentleys Ltd. [1990] 2 SCC 1, the provisions of the Assam Amendment Act, 1967, would bring cognizance against the directors of the directors' committee [or D.C.] of the Board of Directors [or the C.B.I.] for failure to comply with the requirement of Section- 42.</PREAMBLE><PREAMBLE>5. As held in the case of Trilogy Eon Research [1990] 2 SCC 113, the provisions of the Assam Amendment Act, 1967, would attract cognizance against the Directors of the D.C.Z. of the D.C.Z. for failure to comply with the requirement of Section- 42 of the Act for the same to be held in his favour.</PREAMBLE><PREAMBLE>6. As the matter is pending in the High Court of Calcutta, the same would not be considered by the Supreme Court in the instant matter.</PREAMBLE><PREAMBLE>[617 E-F] JUDGMENT:</PREAMBLE><NONE> CRIMINAL APPELLATE JURISDICTION: Criminal Appeal No. 342 of 1981.</NONE><NONE> Appeal from the judgment and order of acquittal of Nanu Vengra in Special C.C. Nos. 57 and 59 of 1991.</NONE><NONE> K.V. Bhasme, Rakesh D. Khanna and Rakesh S. Atwar Bhasme, for the appellant.</NONE><NONE> B.S. Murti, S.K. Shinde for the respondent.</NONE><NONE> The Judgment of the Court was delivered by VENKATARAMIAH, J.</NONE><RLC>The appeal filed by the appellant under Section 29 of the Criminal Procedure Code, 1973, has been allowed.</RLC><RLC>The Special Judge has sentenced the appellant herein to undergo for six months rigorous imprisonment and to pay a fine of Rs. 50,000.</RLC><RLC>The fine is payable by the assessee.</RLC><FAC> 2. It has been received by the respondent that the appellant herein is in fact a defaulter for the last number of years and that he has been living in dignity as a human being as possible.</FAC><FAC>The respondent is suffering from serious ill-treatment.</FAC><FAC>The appellant has been held not guilty for five of the six years under which he was in custody but acquitted for the remaining period of five years.</FAC><FAC>Thereafter, the appellant has been very much pleased with the conduct of the respondent and has been very much pleased with the fact that he has settled down and is running his own business.</FAC><FAC>He has not been in very much of a state of mind as had been the appellant prior to the incident.</FAC><FAC>He is a young, unfortunate man who has escaped from a very bad situation.</FAC><FAC>The family relationship between the appellant and the respondent is very much cordial one.</FAC><FAC>The appellant is a well-wisher of the family and has taken part in charitable giving, running his own course of business and having his own affairs.</FAC><FAC>It is not his case that he has been feeding his family solely by purchasing old potatoes from the field of the potatoes growers and turning into the industry he has become a well-wisher of the family and has certainly maintained a close relation with the respondent.</FAC><FAC>The appellant has certainly looked after himself well and has taken part in many charitable giving events.</FAC><FAC>Hence it is not his case that he has been keeping his distance and taking part in many type of activities.</FAC><FAC>The fact remains that the appellant has also been very much content with his past conduct and has been very much content with the present case.</FAC><FAC>This Court is of the view that there is no evidence to show that the appellant has been directing the present proceeding in a bad manner.</FAC><FAC>The allegations made in this case have been fairly dealt with.</FAC><FAC>There is nothing in the record to show that this Court has considered the question of whether the appellant had any ulterior motive or had any intention to injure the respondent.</FAC><FAC>The case of Bodu Roy Krishna Reddy is no different and Bodu Roy Krishna Reddy is a different person.</FAC><FAC>The ulterior motive has to be viewed in the light of the circumstances of this case.</FAC><FAC>It is not possible to hold in this case that on the date 27.1.1995 at about 11.30 A.M the appellant did not know the deceased.</FAC><FAC>It is also not possible to hold at the time of incident that the appellant was in a position to have known about the condition of the other persons in the house when the incident took place.</FAC><FAC>The prosecution has tried to explain away the presence of the appellant in the house by putting a barrier around him, but it cannot explain away the presence of the appellant in the house.</FAC><FAC>The prosecution has failed to explain away the presence of the appellant in the house by putting a barrier around him.</FAC><FAC>It is also important to keep in mind that all these factors are there together to explain the presence of the appellant in the house.</FAC><FAC>It is not possible to conduct post mortem examination on a person post mortem examination on the body.</FAC><FAC>The post mortem examination and the post mortem examination are different and there is nothing in the record to show that the post mortem examination and the inquest are different in any manner.</FAC><ANALYSIS> 3. The prosecution has not proved that the appellant has given the information to the police through telephone, by telling the police inspector, by the doctor and by any other person.</ANALYSIS><ANALYSIS>There is no evidence to show that the appellant made the obscene language in the house, as alleged or not.</ANALYSIS><ANALYSIS>It is not in dispute that the house belongs to the accused.</ANALYSIS><ANALYSIS>The appellant is the owner of rare and valuable property.</ANALYSIS><ANALYSIS>He has often made obscene and false statements in the past.</ANALYSIS><ANALYSIS>He has no need to now.</ANALYSIS><ANALYSIS> 4. The prosecution has proved beyond reasonable doubt that the appellant made obscene and false statement implicating the deceased.</ANALYSIS><ANALYSIS>The prosecution has proved that the appellant made the statement before the Inspector of the police, by writing down the name and address of the person to whom he has given the information.</ANALYSIS><ANALYSIS>The statement was sufficient to prove that the person who gave the information was a neighbour.</ANALYSIS><RATIO> 5. In view of the above discussed evidence and the fact that the appellant has been convicted in a previous life threatening death to the appellant, it is necessary to consider whether in the facts and circumstances of the present case the death of the deceased might have been prevented or prevented by the prosecution.</RATIO><RATIO>As there is no evidence to show that the appellant has committed murder of his own sister, the murder having been committed by the appellant, it cannot be said that the murder case is 100% safe and that the prosecution has utterly failed to prove the culpability of the appellant in such a case.</RATIO><RATIO>If the prosecution proposes to prove the commission of murder, it must base its case on evidence which is not there.</RATIO><RATIO>In the present case, there is not sufficient evidence to connect the appellant with the commission of the crime, as there is a gap in the evidence on which the prosecution proposes to rely.</RATIO><RPC> 6. In the result, the appellant deserves to be acquitted.</RPC><RPC>The accused is entitled for the acquittal.</RPC><RPC>The impugned judgment and order of conviction passed by the trial Court is set aside.</RPC><RPC>The accused is entitled to the appropriate punishment.</RPC><RPC> The surety of the appellant deserves to be preserved as a primary concern of the offender and to the court.</RPC><RPC>The surety of the respondent deserves to enjoy the benefits of the Probation of Offenders Act.</RPC><RPC>The accused deserves to be set at liberty forthwith and to surrender himself to his bail bonds.</RPC><RPC>The bail bond passed by the accused deserves to be destroyed.</RPC><NONE>.............................................J. </NONE><NONE>[ R. BHAGWATI</NONE><NONE>.............................................</NONE><NONE>J. </NONE><NONE>[ R. NARENDAR>.............................................</NONE><NONE>J. </NONE><NONE>[ R. ANAND].............................................</NONE><NONE>J. </NONE><NONE>[ R. PATIL ].............................................</NONE><NONE>J. </NONE><NONE>[ R. GUPTA>NEW DELHI</NONE><NONE>THESE DAYs</NONE><NONE>THE HON'BLE MR.JUSTICE VINEET SARAN AND MR.JUSTICE S. DILIP BAILEY (BABY)</NONE><NONE> M.P. (1) 11 NOVEMBER 2018</NONE></DOC>\n"
     ]
    }
   ],
   "source": [
    "import re\n",
    "textPref = re.sub('&','and',textPref)\n",
    "print(textPref)"
   ]
  },
  {
   "cell_type": "code",
   "execution_count": 6,
   "metadata": {
    "ExecuteTime": {
     "end_time": "2023-04-19T07:53:35.919402Z",
     "start_time": "2023-04-19T07:53:33.548009Z"
    },
    "id": "ETZLai63G_5g"
   },
   "outputs": [
    {
     "name": "stdout",
     "output_type": "stream",
     "text": [
      "Requirement already satisfied: xmltodict in /home/ujwal/miniconda3/envs/ugp/lib/python3.8/site-packages (0.12.0)\r\n"
     ]
    }
   ],
   "source": [
    "!pip install xmltodict"
   ]
  },
  {
   "cell_type": "code",
   "execution_count": 11,
   "metadata": {
    "ExecuteTime": {
     "end_time": "2023-04-19T08:23:10.926293Z",
     "start_time": "2023-04-19T08:23:10.912687Z"
    },
    "id": "Npi08vkYDfLb"
   },
   "outputs": [
    {
     "name": "stdout",
     "output_type": "stream",
     "text": [
      "[{\"id\": 1, \"annotations\": {\"PREAMBLE\": [\"THE COURT: VENKATARAMIAH, J. DELHI CENTRAL\", \"DISTRICT :\", \"WRIT PETITION NO.3055 OF 2010\", \"NARULAIAH, J.\", \"WRIT PETITION NO.3056 OF 2010\", \"VENKATARAMIAH, J. (DERIVED AS IN APPELLANT's case, CIT.\", \"NOT JUDGMENT BEFORE R-C\", \"1. In R-C, the question is as to whether the provisions of the Assam Amendment Act, 1967, would attract cognizance from the District Court.\", \"[617 D] 2. As held in the case of M/s. Fancy Chemicals Ltd. [1991] 2 SCC 699, the provisions of the Assam Amendment Act, 1967, would attract cognizance from the District Court.\", \"3. As held in the case of Bentleys Ltd. [1988] 2 SCC 699, the provisions of the Assam Amendment Act, 1967, would attract cognizance from the District Court.\", \"4. As held in the case of M/s. Bentleys Ltd. [1990] 2 SCC 1, the provisions of the Assam Amendment Act, 1967, would bring cognizance against the directors of the directors' committee [or D.C.] of the Board of Directors [or the C.B.I.] for failure to comply with the requirement of Section- 42.\", \"5. As held in the case of Trilogy Eon Research [1990] 2 SCC 113, the provisions of the Assam Amendment Act, 1967, would attract cognizance against the Directors of the D.C.Z. of the D.C.Z. for failure to comply with the requirement of Section- 42 of the Act for the same to be held in his favour.\", \"6. As the matter is pending in the High Court of Calcutta, the same would not be considered by the Supreme Court in the instant matter.\", \"[617 E-F] JUDGMENT:\"], \"NONE\": [\"CRIMINAL APPELLATE JURISDICTION: Criminal Appeal No. 342 of 1981.\", \"Appeal from the judgment and order of acquittal of Nanu Vengra in Special C.C. Nos. 57 and 59 of 1991.\", \"K.V. Bhasme, Rakesh D. Khanna and Rakesh S. Atwar Bhasme, for the appellant.\", \"B.S. Murti, S.K. Shinde for the respondent.\", \"The Judgment of the Court was delivered by VENKATARAMIAH, J.\", \".............................................J.\", \"[ R. BHAGWATI\", \".............................................\", \"J.\", \"[ R. NARENDAR>.............................................\", \"J.\", \"[ R. ANAND].............................................\", \"J.\", \"[ R. PATIL ].............................................\", \"J.\", \"[ R. GUPTA>NEW DELHI\", \"THESE DAYs\", \"THE HON'BLE MR.JUSTICE VINEET SARAN AND MR.JUSTICE S. DILIP BAILEY (BABY)\", \"M.P. (1) 11 NOVEMBER 2018\"], \"RLC\": [\"The appeal filed by the appellant under Section 29 of the Criminal Procedure Code, 1973, has been allowed.\", \"The Special Judge has sentenced the appellant herein to undergo for six months rigorous imprisonment and to pay a fine of Rs. 50,000.\", \"The fine is payable by the assessee.\"], \"FAC\": [\"2. It has been received by the respondent that the appellant herein is in fact a defaulter for the last number of years and that he has been living in dignity as a human being as possible.\", \"The respondent is suffering from serious ill-treatment.\", \"The appellant has been held not guilty for five of the six years under which he was in custody but acquitted for the remaining period of five years.\", \"Thereafter, the appellant has been very much pleased with the conduct of the respondent and has been very much pleased with the fact that he has settled down and is running his own business.\", \"He has not been in very much of a state of mind as had been the appellant prior to the incident.\", \"He is a young, unfortunate man who has escaped from a very bad situation.\", \"The family relationship between the appellant and the respondent is very much cordial one.\", \"The appellant is a well-wisher of the family and has taken part in charitable giving, running his own course of business and having his own affairs.\", \"It is not his case that he has been feeding his family solely by purchasing old potatoes from the field of the potatoes growers and turning into the industry he has become a well-wisher of the family and has certainly maintained a close relation with the respondent.\", \"The appellant has certainly looked after himself well and has taken part in many charitable giving events.\", \"Hence it is not his case that he has been keeping his distance and taking part in many type of activities.\", \"The fact remains that the appellant has also been very much content with his past conduct and has been very much content with the present case.\", \"This Court is of the view that there is no evidence to show that the appellant has been directing the present proceeding in a bad manner.\", \"The allegations made in this case have been fairly dealt with.\", \"There is nothing in the record to show that this Court has considered the question of whether the appellant had any ulterior motive or had any intention to injure the respondent.\", \"The case of Bodu Roy Krishna Reddy is no different and Bodu Roy Krishna Reddy is a different person.\", \"The ulterior motive has to be viewed in the light of the circumstances of this case.\", \"It is not possible to hold in this case that on the date 27.1.1995 at about 11.30 A.M the appellant did not know the deceased.\", \"It is also not possible to hold at the time of incident that the appellant was in a position to have known about the condition of the other persons in the house when the incident took place.\", \"The prosecution has tried to explain away the presence of the appellant in the house by putting a barrier around him, but it cannot explain away the presence of the appellant in the house.\", \"The prosecution has failed to explain away the presence of the appellant in the house by putting a barrier around him.\", \"It is also important to keep in mind that all these factors are there together to explain the presence of the appellant in the house.\", \"It is not possible to conduct post mortem examination on a person post mortem examination on the body.\", \"The post mortem examination and the post mortem examination are different and there is nothing in the record to show that the post mortem examination and the inquest are different in any manner.\"], \"ANALYSIS\": [\"3. The prosecution has not proved that the appellant has given the information to the police through telephone, by telling the police inspector, by the doctor and by any other person.\", \"There is no evidence to show that the appellant made the obscene language in the house, as alleged or not.\", \"It is not in dispute that the house belongs to the accused.\", \"The appellant is the owner of rare and valuable property.\", \"He has often made obscene and false statements in the past.\", \"He has no need to now.\", \"4. The prosecution has proved beyond reasonable doubt that the appellant made obscene and false statement implicating the deceased.\", \"The prosecution has proved that the appellant made the statement before the Inspector of the police, by writing down the name and address of the person to whom he has given the information.\", \"The statement was sufficient to prove that the person who gave the information was a neighbour.\"], \"RATIO\": [\"5. In view of the above discussed evidence and the fact that the appellant has been convicted in a previous life threatening death to the appellant, it is necessary to consider whether in the facts and circumstances of the present case the death of the deceased might have been prevented or prevented by the prosecution.\", \"As there is no evidence to show that the appellant has committed murder of his own sister, the murder having been committed by the appellant, it cannot be said that the murder case is 100% safe and that the prosecution has utterly failed to prove the culpability of the appellant in such a case.\", \"If the prosecution proposes to prove the commission of murder, it must base its case on evidence which is not there.\", \"In the present case, there is not sufficient evidence to connect the appellant with the commission of the crime, as there is a gap in the evidence on which the prosecution proposes to rely.\"], \"RPC\": [\"6. In the result, the appellant deserves to be acquitted.\", \"The accused is entitled for the acquittal.\", \"The impugned judgment and order of conviction passed by the trial Court is set aside.\", \"The accused is entitled to the appropriate punishment.\", \"The surety of the appellant deserves to be preserved as a primary concern of the offender and to the court.\", \"The surety of the respondent deserves to enjoy the benefits of the Probation of Offenders Act.\", \"The accused deserves to be set at liberty forthwith and to surrender himself to his bail bonds.\", \"The bail bond passed by the accused deserves to be destroyed.\"]}}]\n"
     ]
    }
   ],
   "source": [
    "import xmltodict\n",
    "import json\n",
    "\n",
    "# Input XML string\n",
    "xml_str = textPref\n",
    "\n",
    "# Convert XML string to a dictionary\n",
    "doc_dict = xmltodict.parse(xml_str)\n",
    "# print(doc_dict)\n",
    "# Extract the annotations from the dictionary\n",
    "annotations = {}\n",
    "for key, value in doc_dict['DOC'].items():\n",
    "    if key.startswith('@'):\n",
    "        # Ignore attributes like '@xmlns'\n",
    "        continue\n",
    "    annotations[key] = value\n",
    "\n",
    "# Create the output JSON object\n",
    "output = [{'id': 1, 'annotations': annotations}]\n",
    "\n",
    "# Serialize the JSON object to a string\n",
    "json_str = json.dumps(output)\n",
    "\n",
    "# Print the JSON string\n",
    "print(json_str)\n",
    "\n",
    "# Save json File\n",
    "with open(\"output.json\", \"w\", encoding = \"utf-8\") as f:\n",
    "  f.write(json_str)"
   ]
  },
  {
   "cell_type": "code",
   "execution_count": null,
   "metadata": {},
   "outputs": [],
   "source": []
  }
 ],
 "metadata": {
  "accelerator": "GPU",
  "colab": {
   "gpuType": "T4",
   "provenance": []
  },
  "gpuClass": "standard",
  "kernelspec": {
   "display_name": "Python [conda env:ugp]",
   "language": "python",
   "name": "conda-env-ugp-py"
  },
  "language_info": {
   "codemirror_mode": {
    "name": "ipython",
    "version": 3
   },
   "file_extension": ".py",
   "mimetype": "text/x-python",
   "name": "python",
   "nbconvert_exporter": "python",
   "pygments_lexer": "ipython3",
   "version": "3.8.16"
  },
  "toc": {
   "base_numbering": 1,
   "nav_menu": {},
   "number_sections": true,
   "sideBar": true,
   "skip_h1_title": false,
   "title_cell": "Table of Contents",
   "title_sidebar": "Contents",
   "toc_cell": false,
   "toc_position": {},
   "toc_section_display": true,
   "toc_window_display": false
  }
 },
 "nbformat": 4,
 "nbformat_minor": 1
}
